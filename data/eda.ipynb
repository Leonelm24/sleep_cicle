{
 "cells": [
  {
   "cell_type": "code",
   "id": "initial_id",
   "metadata": {
    "collapsed": true,
    "ExecuteTime": {
     "end_time": "2025-02-25T16:21:43.853216Z",
     "start_time": "2025-02-25T16:21:42.005486Z"
    }
   },
   "source": "import pandas as pd",
   "outputs": [],
   "execution_count": 1
  },
  {
   "metadata": {
    "ExecuteTime": {
     "end_time": "2025-02-25T16:26:33.732731Z",
     "start_time": "2025-02-25T16:26:33.710066Z"
    }
   },
   "cell_type": "code",
   "source": "df=pd.read_csv('C:\\\\py\\\\ciclo_sueno\\\\data\\\\sleep_cycle_productivity.csv')",
   "id": "170e2e48ad70ee68",
   "outputs": [],
   "execution_count": 2
  },
  {
   "metadata": {
    "ExecuteTime": {
     "end_time": "2025-02-25T16:26:41.054894Z",
     "start_time": "2025-02-25T16:26:41.032609Z"
    }
   },
   "cell_type": "code",
   "source": "df.head()",
   "id": "12f81f482c72d999",
   "outputs": [
    {
     "data": {
      "text/plain": [
       "         Date  Person_ID  Age  Gender  Sleep Start Time  Sleep End Time  \\\n",
       "0  2024-04-12       1860   32   Other             23.33            4.61   \n",
       "1  2024-11-04       1769   41  Female             21.02            2.43   \n",
       "2  2024-08-31       2528   20    Male             22.10            3.45   \n",
       "3  2024-02-22       8041   37   Other             23.10            6.65   \n",
       "4  2024-02-23       4843   46   Other             21.42            4.17   \n",
       "\n",
       "   Total Sleep Hours  Sleep Quality  Exercise (mins/day)  \\\n",
       "0               5.28              3                   86   \n",
       "1               5.41              5                   32   \n",
       "2               5.35              7                   17   \n",
       "3               7.55              8                   46   \n",
       "4               6.75             10                   61   \n",
       "\n",
       "   Caffeine Intake (mg)  Screen Time Before Bed (mins)  Work Hours (hrs/day)  \\\n",
       "0                    87                            116              8.808920   \n",
       "1                    21                             88              6.329833   \n",
       "2                    88                             59              8.506306   \n",
       "3                    34                             80              6.070240   \n",
       "4                   269                             94             11.374994   \n",
       "\n",
       "   Productivity Score  Mood Score  Stress Level  \n",
       "0                   8           3             6  \n",
       "1                  10           3             7  \n",
       "2                  10           9            10  \n",
       "3                   8           4             2  \n",
       "4                   8           7             9  "
      ],
      "text/html": [
       "<div>\n",
       "<style scoped>\n",
       "    .dataframe tbody tr th:only-of-type {\n",
       "        vertical-align: middle;\n",
       "    }\n",
       "\n",
       "    .dataframe tbody tr th {\n",
       "        vertical-align: top;\n",
       "    }\n",
       "\n",
       "    .dataframe thead th {\n",
       "        text-align: right;\n",
       "    }\n",
       "</style>\n",
       "<table border=\"1\" class=\"dataframe\">\n",
       "  <thead>\n",
       "    <tr style=\"text-align: right;\">\n",
       "      <th></th>\n",
       "      <th>Date</th>\n",
       "      <th>Person_ID</th>\n",
       "      <th>Age</th>\n",
       "      <th>Gender</th>\n",
       "      <th>Sleep Start Time</th>\n",
       "      <th>Sleep End Time</th>\n",
       "      <th>Total Sleep Hours</th>\n",
       "      <th>Sleep Quality</th>\n",
       "      <th>Exercise (mins/day)</th>\n",
       "      <th>Caffeine Intake (mg)</th>\n",
       "      <th>Screen Time Before Bed (mins)</th>\n",
       "      <th>Work Hours (hrs/day)</th>\n",
       "      <th>Productivity Score</th>\n",
       "      <th>Mood Score</th>\n",
       "      <th>Stress Level</th>\n",
       "    </tr>\n",
       "  </thead>\n",
       "  <tbody>\n",
       "    <tr>\n",
       "      <th>0</th>\n",
       "      <td>2024-04-12</td>\n",
       "      <td>1860</td>\n",
       "      <td>32</td>\n",
       "      <td>Other</td>\n",
       "      <td>23.33</td>\n",
       "      <td>4.61</td>\n",
       "      <td>5.28</td>\n",
       "      <td>3</td>\n",
       "      <td>86</td>\n",
       "      <td>87</td>\n",
       "      <td>116</td>\n",
       "      <td>8.808920</td>\n",
       "      <td>8</td>\n",
       "      <td>3</td>\n",
       "      <td>6</td>\n",
       "    </tr>\n",
       "    <tr>\n",
       "      <th>1</th>\n",
       "      <td>2024-11-04</td>\n",
       "      <td>1769</td>\n",
       "      <td>41</td>\n",
       "      <td>Female</td>\n",
       "      <td>21.02</td>\n",
       "      <td>2.43</td>\n",
       "      <td>5.41</td>\n",
       "      <td>5</td>\n",
       "      <td>32</td>\n",
       "      <td>21</td>\n",
       "      <td>88</td>\n",
       "      <td>6.329833</td>\n",
       "      <td>10</td>\n",
       "      <td>3</td>\n",
       "      <td>7</td>\n",
       "    </tr>\n",
       "    <tr>\n",
       "      <th>2</th>\n",
       "      <td>2024-08-31</td>\n",
       "      <td>2528</td>\n",
       "      <td>20</td>\n",
       "      <td>Male</td>\n",
       "      <td>22.10</td>\n",
       "      <td>3.45</td>\n",
       "      <td>5.35</td>\n",
       "      <td>7</td>\n",
       "      <td>17</td>\n",
       "      <td>88</td>\n",
       "      <td>59</td>\n",
       "      <td>8.506306</td>\n",
       "      <td>10</td>\n",
       "      <td>9</td>\n",
       "      <td>10</td>\n",
       "    </tr>\n",
       "    <tr>\n",
       "      <th>3</th>\n",
       "      <td>2024-02-22</td>\n",
       "      <td>8041</td>\n",
       "      <td>37</td>\n",
       "      <td>Other</td>\n",
       "      <td>23.10</td>\n",
       "      <td>6.65</td>\n",
       "      <td>7.55</td>\n",
       "      <td>8</td>\n",
       "      <td>46</td>\n",
       "      <td>34</td>\n",
       "      <td>80</td>\n",
       "      <td>6.070240</td>\n",
       "      <td>8</td>\n",
       "      <td>4</td>\n",
       "      <td>2</td>\n",
       "    </tr>\n",
       "    <tr>\n",
       "      <th>4</th>\n",
       "      <td>2024-02-23</td>\n",
       "      <td>4843</td>\n",
       "      <td>46</td>\n",
       "      <td>Other</td>\n",
       "      <td>21.42</td>\n",
       "      <td>4.17</td>\n",
       "      <td>6.75</td>\n",
       "      <td>10</td>\n",
       "      <td>61</td>\n",
       "      <td>269</td>\n",
       "      <td>94</td>\n",
       "      <td>11.374994</td>\n",
       "      <td>8</td>\n",
       "      <td>7</td>\n",
       "      <td>9</td>\n",
       "    </tr>\n",
       "  </tbody>\n",
       "</table>\n",
       "</div>"
      ]
     },
     "execution_count": 3,
     "metadata": {},
     "output_type": "execute_result"
    }
   ],
   "execution_count": 3
  },
  {
   "metadata": {},
   "cell_type": "code",
   "outputs": [],
   "execution_count": null,
   "source": [
    "def describir_dataset(df):\n",
    "    print(f\"Este df tiene estas columnas y filas: {df.shape}\")\n",
    "    print(df.isna().sum())\n",
    "\n",
    "describir_dataset(df)\n"
   ],
   "id": "926ebee32299fb20"
  },
  {
   "metadata": {},
   "cell_type": "code",
   "outputs": [],
   "execution_count": null,
   "source": "def tranformar_",
   "id": "c6ea724fe730a202"
  },
  {
   "metadata": {
    "ExecuteTime": {
     "end_time": "2025-02-25T16:44:07.516624Z",
     "start_time": "2025-02-25T16:44:07.510265Z"
    }
   },
   "cell_type": "code",
   "source": "df.columns",
   "id": "202a8ed41ce0fe48",
   "outputs": [
    {
     "data": {
      "text/plain": [
       "Index(['Date', 'Person_ID', 'Age', 'Gender', 'Sleep Start Time',\n",
       "       'Sleep End Time', 'Total Sleep Hours', 'Sleep Quality',\n",
       "       'Exercise (mins/day)', 'Caffeine Intake (mg)',\n",
       "       'Screen Time Before Bed (mins)', 'Work Hours (hrs/day)',\n",
       "       'Productivity Score', 'Mood Score', 'Stress Level'],\n",
       "      dtype='object')"
      ]
     },
     "execution_count": 4,
     "metadata": {},
     "output_type": "execute_result"
    }
   ],
   "execution_count": 4
  },
  {
   "metadata": {},
   "cell_type": "code",
   "outputs": [],
   "execution_count": null,
   "source": [
    "#ipor e invocaciones\n",
    "\n",
    "import src.exploration  as exp\n",
    "import src.transformation as trs\n",
    "import src.visualization as viz"
   ],
   "id": "45dade5edabac8f6"
  }
 ],
 "metadata": {
  "kernelspec": {
   "display_name": "Python 3",
   "language": "python",
   "name": "python3"
  },
  "language_info": {
   "codemirror_mode": {
    "name": "ipython",
    "version": 2
   },
   "file_extension": ".py",
   "mimetype": "text/x-python",
   "name": "python",
   "nbconvert_exporter": "python",
   "pygments_lexer": "ipython2",
   "version": "2.7.6"
  }
 },
 "nbformat": 4,
 "nbformat_minor": 5
}
